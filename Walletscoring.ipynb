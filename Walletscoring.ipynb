{
 "cells": [
  {
   "cell_type": "code",
   "execution_count": 1,
   "id": "4d213c07-907c-409d-a385-adf9994a78d7",
   "metadata": {},
   "outputs": [
    {
     "name": "stdout",
     "output_type": "stream",
     "text": [
      "Requirement already satisfied: requests in c:\\users\\ankita\\downloads\\walletriskscoring\\env\\lib\\site-packages (2.32.4)\n",
      "Collecting pandas\n",
      "  Using cached pandas-2.3.1-cp311-cp311-win_amd64.whl (11.3 MB)\n",
      "Collecting scikit-learn\n",
      "  Using cached scikit_learn-1.7.1-cp311-cp311-win_amd64.whl (8.9 MB)\n",
      "Requirement already satisfied: charset_normalizer<4,>=2 in c:\\users\\ankita\\downloads\\walletriskscoring\\env\\lib\\site-packages (from requests) (3.4.2)\n",
      "Requirement already satisfied: idna<4,>=2.5 in c:\\users\\ankita\\downloads\\walletriskscoring\\env\\lib\\site-packages (from requests) (3.10)\n",
      "Requirement already satisfied: urllib3<3,>=1.21.1 in c:\\users\\ankita\\downloads\\walletriskscoring\\env\\lib\\site-packages (from requests) (2.5.0)\n",
      "Requirement already satisfied: certifi>=2017.4.17 in c:\\users\\ankita\\downloads\\walletriskscoring\\env\\lib\\site-packages (from requests) (2025.7.14)\n",
      "Collecting numpy>=1.23.2 (from pandas)\n",
      "  Using cached numpy-2.3.2-cp311-cp311-win_amd64.whl (13.1 MB)\n",
      "Requirement already satisfied: python-dateutil>=2.8.2 in c:\\users\\ankita\\downloads\\walletriskscoring\\env\\lib\\site-packages (from pandas) (2.9.0.post0)\n",
      "Collecting pytz>=2020.1 (from pandas)\n",
      "  Using cached pytz-2025.2-py2.py3-none-any.whl (509 kB)\n",
      "Collecting tzdata>=2022.7 (from pandas)\n",
      "  Using cached tzdata-2025.2-py2.py3-none-any.whl (347 kB)\n",
      "Collecting scipy>=1.8.0 (from scikit-learn)\n",
      "  Using cached scipy-1.16.0-cp311-cp311-win_amd64.whl (38.6 MB)\n",
      "Collecting joblib>=1.2.0 (from scikit-learn)\n",
      "  Using cached joblib-1.5.1-py3-none-any.whl (307 kB)\n",
      "Collecting threadpoolctl>=3.1.0 (from scikit-learn)\n",
      "  Using cached threadpoolctl-3.6.0-py3-none-any.whl (18 kB)\n",
      "Requirement already satisfied: six>=1.5 in c:\\users\\ankita\\downloads\\walletriskscoring\\env\\lib\\site-packages (from python-dateutil>=2.8.2->pandas) (1.17.0)\n",
      "Installing collected packages: pytz, tzdata, threadpoolctl, numpy, joblib, scipy, pandas, scikit-learn\n",
      "Successfully installed joblib-1.5.1 numpy-2.3.2 pandas-2.3.1 pytz-2025.2 scikit-learn-1.7.1 scipy-1.16.0 threadpoolctl-3.6.0 tzdata-2025.2\n"
     ]
    },
    {
     "name": "stderr",
     "output_type": "stream",
     "text": [
      "\n",
      "[notice] A new release of pip is available: 23.1.2 -> 25.1.1\n",
      "[notice] To update, run: python.exe -m pip install --upgrade pip\n"
     ]
    }
   ],
   "source": [
    "!pip install requests pandas scikit-learn\n"
   ]
  },
  {
   "cell_type": "code",
   "execution_count": 18,
   "id": "615bd467-26c3-4ab9-a4ac-15c850f6e3b9",
   "metadata": {},
   "outputs": [
    {
     "data": {
      "text/plain": [
       "['0x0039f22efb07a647557c7c5d17854cfd6d489ef3',\n",
       " '0x06b51c6882b27cb05e712185531c1f74996dd988',\n",
       " '0x0795732aacc448030ef374374eaae57d2965c16c',\n",
       " '0x0aaa79f1a86bc8136cd0d1ca0d51964f4e3766f9',\n",
       " '0x0fe383e5abc200055a7f391f94a5f5d1f844b9ae']"
      ]
     },
     "execution_count": 18,
     "metadata": {},
     "output_type": "execute_result"
    }
   ],
   "source": [
    "import pandas as pd\n",
    "\n",
    "def load_wallets(csv_path):\n",
    "    df = pd.read_csv(csv_path)\n",
    "    \n",
    "    # Standardize column names\n",
    "    df.columns = [col.strip().lower() for col in df.columns]\n",
    "    \n",
    "    if 'address' in df.columns:\n",
    "        return df['address'].dropna().tolist()\n",
    "    else:\n",
    "        raise KeyError(\"Column 'address' not found in the CSV.\")\n",
    "\n",
    "# Load wallet addresses\n",
    "wallets = load_wallets(\"Wallet.csv\")\n",
    "\n",
    "# Show first 5\n",
    "wallets[:5]\n"
   ]
  },
  {
   "cell_type": "code",
   "execution_count": 19,
   "id": "2c53043f-dacc-46c1-b10e-ecc005a60d6a",
   "metadata": {},
   "outputs": [
    {
     "name": "stdout",
     "output_type": "stream",
     "text": [
      "Actual columns in the file: ['address']\n"
     ]
    }
   ],
   "source": [
    "import pandas as pd\n",
    "\n",
    "df = pd.read_csv(\"Wallet.csv\")\n",
    "print(\"Actual columns in the file:\", df.columns.tolist())\n"
   ]
  },
  {
   "cell_type": "code",
   "execution_count": 20,
   "id": "b44222d3-ba1b-4f1c-94a2-c72151676810",
   "metadata": {},
   "outputs": [],
   "source": [
    "import requests\n",
    "\n",
    "SUBGRAPH_URL = \"https://api.thegraph.com/subgraphs/name/graphprotocol/compound-v2\"\n",
    "\n",
    "def fetch_account_activity(wallet_address):\n",
    "    query = \"\"\"\n",
    "    query getAccount($id: ID!) {\n",
    "      account(id: $id) {\n",
    "        id\n",
    "        tokenTransactions(first: 1000, orderBy: blockTimestamp, orderDirection: desc) {\n",
    "          __typename\n",
    "        }\n",
    "      }\n",
    "    }\n",
    "    \"\"\"\n",
    "    variables = {\"id\": wallet_address.lower()}\n",
    "    \n",
    "    response = requests.post(SUBGRAPH_URL, json={'query': query, 'variables': variables})\n",
    "    \n",
    "    if response.status_code == 200:\n",
    "        data = response.json().get(\"data\", {}).get(\"account\", None)\n",
    "        return data\n",
    "    else:\n",
    "        print(f\"Error fetching: {wallet_address}\")\n",
    "        return None\n"
   ]
  },
  {
   "cell_type": "code",
   "execution_count": 21,
   "id": "eac115f5-7fb8-4cff-a7ff-f16772a4b7d0",
   "metadata": {},
   "outputs": [],
   "source": [
    "def extract_features(account_data):\n",
    "    txs = account_data.get(\"tokenTransactions\", [])\n",
    "    \n",
    "    num_txs = len(txs)\n",
    "    borrow_count = sum(1 for tx in txs if tx.get('__typename') == 'Borrow')\n",
    "    supply_count = sum(1 for tx in txs if tx.get('__typename') == 'Mint')\n",
    "    repay_count = sum(1 for tx in txs if tx.get('__typename') == 'RepayBorrow')\n",
    "    liquidation_count = sum(1 for tx in txs if tx.get('__typename') == 'Liquidation')\n",
    "    \n",
    "    return {\n",
    "        \"wallet\": account_data.get('id', 'unknown'),\n",
    "        \"num_transactions\": num_txs,\n",
    "        \"supply_count\": supply_count,\n",
    "        \"borrow_count\": borrow_count,\n",
    "        \"repay_count\": repay_count,\n",
    "        \"liquidation_count\": liquidation_count\n",
    "    }\n"
   ]
  },
  {
   "cell_type": "code",
   "execution_count": 22,
   "id": "c0541b68-42a9-44f5-9988-81f359ae80c9",
   "metadata": {},
   "outputs": [],
   "source": [
    "from sklearn.preprocessing import MinMaxScaler\n",
    "\n",
    "def compute_scores(feature_df):\n",
    "    df = feature_df.copy()\n",
    "    df[\"repay_ratio\"] = df[\"repay_count\"] / (df[\"borrow_count\"] + 1)\n",
    "    df[\"liquidation_risk\"] = df[\"liquidation_count\"] / (df[\"num_transactions\"] + 1)\n",
    "\n",
    "    features_to_scale = [\"borrow_count\", \"repay_ratio\", \"liquidation_risk\", \"num_transactions\"]\n",
    "    \n",
    "    scaler = MinMaxScaler()\n",
    "    df_scaled = scaler.fit_transform(df[features_to_scale])\n",
    "    \n",
    "    df[\"score\"] = (1 - df_scaled[:, 2]) * 0.4 + df_scaled[:, 1] * 0.3 + df_scaled[:, 0] * 0.2 + df_scaled[:, 3] * 0.1\n",
    "    df[\"score\"] = (df[\"score\"] * 1000).round().astype(int)\n",
    "    \n",
    "    return df[[\"wallet\", \"score\"]]\n"
   ]
  },
  {
   "cell_type": "code",
   "execution_count": 25,
   "id": "c5d43d46-90db-4f70-ba54-39fdef8ba9dd",
   "metadata": {},
   "outputs": [],
   "source": [
    "def extract_features(account):\n",
    "    txs = account.get(\"tokenTransactions\", [])\n",
    "\n",
    "    borrow_count = 0\n",
    "    repay_count = 0\n",
    "    liquidation_count = 0\n",
    "\n",
    "    for tx in txs:\n",
    "        tx_type = tx.get(\"__typename\", \"\")\n",
    "        if tx_type == \"Borrow\":\n",
    "            borrow_count += 1\n",
    "        elif tx_type == \"Repay\":\n",
    "            repay_count += 1\n",
    "        elif tx_type == \"Liquidation\":\n",
    "            liquidation_count += 1\n",
    "\n",
    "    return {\n",
    "        \"borrow_count\": borrow_count,\n",
    "        \"repay_count\": repay_count,\n",
    "        \"liquidation_count\": liquidation_count,\n",
    "        \"num_transactions\": len(txs)\n",
    "    }\n"
   ]
  },
  {
   "cell_type": "code",
   "execution_count": 26,
   "id": "36628f50-de48-4d0f-9d84-a8712cb285ef",
   "metadata": {},
   "outputs": [
    {
     "name": "stdout",
     "output_type": "stream",
     "text": [
      "Fetching: 0x0039f22efb07a647557c7c5d17854cfd6d489ef3\n",
      "Fetching: 0x06b51c6882b27cb05e712185531c1f74996dd988\n",
      "Fetching: 0x0795732aacc448030ef374374eaae57d2965c16c\n",
      "Fetching: 0x0aaa79f1a86bc8136cd0d1ca0d51964f4e3766f9\n",
      "Fetching: 0x0fe383e5abc200055a7f391f94a5f5d1f844b9ae\n",
      "Fetching: 0x104ae61d8d487ad689969a17807ddc338b445416\n",
      "Fetching: 0x111c7208a7e2af345d36b6d4aace8740d61a3078\n",
      "Fetching: 0x124853fecb522c57d9bd5c21231058696ca6d596\n",
      "Fetching: 0x13b1c8b0e696aff8b4fee742119b549b605f3cbc\n",
      "Fetching: 0x1656f1886c5ab634ac19568cd571bc72f385fdf7\n",
      "Fetching: 0x1724e16cb8d0e2aa4d08035bc6b5c56b680a3b22\n",
      "Fetching: 0x19df3e87f73c4aaf4809295561465b993e102668\n",
      "Fetching: 0x1ab2ccad4fc97c9968ea87d4435326715be32872\n",
      "Fetching: 0x1c1b30ca93ef57452d53885d97a74f61daf2bf4f\n",
      "Fetching: 0x1e43dacdcf863676a6bec8f7d6896d6252fac669\n",
      "Fetching: 0x22d7510588d90ed5a87e0f838391aaafa707c34b\n",
      "Fetching: 0x24b3460622d835c56d9a4fe352966b9bdc6c20af\n",
      "Fetching: 0x26750f1f4277221bdb5f6991473c6ece8c821f9d\n",
      "Fetching: 0x27f72a000d8e9f324583f3a3491ea66998275b28\n",
      "Fetching: 0x2844658bf341db96aa247259824f42025e3bcec2\n",
      "Fetching: 0x2a2fde3e1beb508fcf7c137a1d5965f13a17825e\n",
      "Fetching: 0x330513970efd9e8dd606275fb4c50378989b3204\n",
      "Fetching: 0x3361bea43c2f5f963f81ac70f64e6fba1f1d2a97\n",
      "Fetching: 0x3867d222ba91236ad4d12c31056626f9e798629c\n",
      "Fetching: 0x3a44be4581137019f83021eeee72b7dc57756069\n",
      "Fetching: 0x3e69ad05716bdc834db72c4d6d44439a7c8a902b\n",
      "Fetching: 0x427f2ac5fdf4245e027d767e7c3ac272a1f40a65\n",
      "Fetching: 0x4814be124d7fe3b240eb46061f7ddfab468fe122\n",
      "Fetching: 0x4839e666e2baf12a51bf004392b35972eeddeabf\n",
      "Fetching: 0x4c4d05fe859279c91b074429b5fc451182cec745\n",
      "Fetching: 0x4d997c89bc659a3e8452038a8101161e7e7e53a7\n",
      "Fetching: 0x4db0a72edb5ea6c55df929f76e7d5bb14e389860\n",
      "Fetching: 0x4e61251336c32e4fe6bfd5fab014846599321389\n",
      "Fetching: 0x4e6e724f4163b24ffc7ffe662b5f6815b18b4210\n",
      "Fetching: 0x507b6c0d950702f066a9a1bd5e85206f87b065ba\n",
      "Fetching: 0x54e19653be9d4143b08994906be0e27555e8834d\n",
      "Fetching: 0x56ba823641bfc317afc8459bf27feed6eb9ff59f\n",
      "Fetching: 0x56cc2bffcb3f86a30c492f9d1a671a1f744d1d2f\n",
      "Fetching: 0x578cea5f899b0dfbf05c7fbcfda1a644b2a47787\n",
      "Fetching: 0x58c2a9099a03750e9842d3e9a7780cdd6aa70b86\n",
      "Fetching: 0x58d68d4bcf9725e40353379cec92b90332561683\n",
      "Fetching: 0x5e324b4a564512ea7c93088dba2f8c1bf046a3eb\n",
      "Fetching: 0x612a3500559be7be7703de6dc397afb541a16f7f\n",
      "Fetching: 0x623af911f493747c216ad389c7805a37019c662d\n",
      "Fetching: 0x6a2752a534faacaaa153bffbb973dd84e0e5497b\n",
      "Fetching: 0x6d69ca3711e504658977367e13c300ab198379f1\n",
      "Fetching: 0x6e355417f7f56e7927d1cd971f0b5a1e6d538487\n",
      "Fetching: 0x70c1864282599a762c674dd9d567b37e13bce755\n",
      "Fetching: 0x70d8e4ab175dfe0eab4e9a7f33e0a2d19f44001e\n",
      "Fetching: 0x7399dbeebe2f88bc6ac4e3fd7ddb836a4bce322f\n",
      "Fetching: 0x767055590c73b7d2aaa6219da13807c493f91a20\n",
      "Fetching: 0x7851bdfb64bbecfb40c030d722a1f147dff5db6a\n",
      "Fetching: 0x7b4636320daa0bc055368a4f9b9d01bd8ac51877\n",
      "Fetching: 0x7b57dbe2f2e4912a29754ff3e412ed9507fd8957\n",
      "Fetching: 0x7be3dfb5b6fcbae542ea85e76cc19916a20f6c1e\n",
      "Fetching: 0x7de76a449cf60ea3e111ff18b28e516d89532152\n",
      "Fetching: 0x7e3eab408b9c76a13305ef34606f17c16f7b33cc\n",
      "Fetching: 0x7f5e6a28afc9fb0aaf4259d4ff69991b88ebea47\n",
      "Fetching: 0x83ea74c67d393c6894c34c464657bda2183a2f1a\n",
      "Fetching: 0x8441fecef5cc6f697be2c4fc4a36feacede8df67\n",
      "Fetching: 0x854a873b8f9bfac36a5eb9c648e285a095a7478d\n",
      "Fetching: 0x8587d9f794f06d976c2ec1cfd523983b856f5ca9\n",
      "Fetching: 0x880a0af12da55df1197f41697c1a1b61670ed410\n",
      "Fetching: 0x8aaece100580b749a20f8ce30338c4e0770b65ed\n",
      "Fetching: 0x8be38ea2b22b706aef313c2de81f7d179024dd30\n",
      "Fetching: 0x8d900f213db5205c529aaba5d10e71a0ed2646db\n",
      "Fetching: 0x91919344c1dad09772d19ad8ad4f1bcd29c51f27\n",
      "Fetching: 0x93f0891bf71d8abed78e0de0885bd26355bb8b1d\n",
      "Fetching: 0x96479b087cb8f236a5e2dcbfc50ce63b2f421da6\n",
      "Fetching: 0x96bb4447a02b95f1d1e85374cffd565eb22ed2f8\n",
      "Fetching: 0x9a363adc5d382c04d36b09158286328f75672098\n",
      "Fetching: 0x9ad1331c5b6c5a641acffb32719c66a80c6e1a17\n",
      "Fetching: 0x9ba0d85f71e145ccf15225e59631e5a883d5d74a\n",
      "Fetching: 0x9e6ec4e98793970a1307262ba68d37594e58cd78\n",
      "Fetching: 0xa7e94d933eb0c439dda357f61244a485246e97b8\n",
      "Fetching: 0xa7f3c74f0255796fd5d3ddcf88db769f7a6bf46a\n",
      "Fetching: 0xa98dc64bb42575efec7d1e4560c029231ce5da51\n",
      "Fetching: 0xb271ff7090b39028eb6e711c3f89a3453d5861ee\n",
      "Fetching: 0xb475576594ae44e1f75f534f993cbb7673e4c8b6\n",
      "Fetching: 0xb57297c5d02def954794e593db93d0a302e43e5c\n",
      "Fetching: 0xbd4a00764217c13a246f86db58d74541a0c3972a\n",
      "Fetching: 0xc179d55f7e00e789915760f7d260a1bf6285278b\n",
      "Fetching: 0xc22b8e78394ce52e0034609a67ae3c959daa84bc\n",
      "Fetching: 0xcbbd9fe837a14258286bbf2e182cbc4e4518c5a3\n",
      "Fetching: 0xcecf5163bb057c1aff4963d9b9a7d2f0bf591710\n",
      "Fetching: 0xcf0033bf27804640e5339e06443e208db5870dd2\n",
      "Fetching: 0xd0df53e296c1e3115fccc3d7cdf4ba495e593b56\n",
      "Fetching: 0xd1a3888fd8f490367c6104e10b4154427c02dd9c\n",
      "Fetching: 0xd334d18fa6bada9a10f361bae42a019ce88a3c33\n",
      "Fetching: 0xd9d3930ffa343f5a0eec7606d045d0843d3a02b4\n",
      "Fetching: 0xdde73df7bd4d704a89ad8421402701b3a460c6e9\n",
      "Fetching: 0xde92d70253604fd8c5998c8ee3ed282a41b33b7f\n",
      "Fetching: 0xded1f838ae6aa5fcd0f13481b37ee88e5bdccb3d\n",
      "Fetching: 0xebb8629e8a3ec86cf90cb7600264415640834483\n",
      "Fetching: 0xeded1c8c0a0c532195b8432153f3bfa81dba2a90\n",
      "Fetching: 0xf10fd8921019615a856c1e95c7cd3632de34edc4\n",
      "Fetching: 0xf340b9f2098f80b86fbc5ede586c319473aa11f3\n",
      "Fetching: 0xf54f36bca969800fd7d63a68029561309938c09b\n",
      "Fetching: 0xf60304b534f74977e159b2e159e135475c245526\n",
      "Fetching: 0xf67e8e5805835465f7eba988259db882ab726800\n",
      "Fetching: 0xf7aa5d0752cfcd41b0a5945867d619a80c405e52\n",
      "Fetching: 0xf80a8b9cfff0febf49914c269fb8aead4a22f847\n",
      "Fetching: 0xfe5a05c0f8b24fca15a7306f6a4ebb7dcf2186ac\n",
      "df_features columns: []\n",
      "Empty DataFrame\n",
      "Columns: []\n",
      "Index: []\n"
     ]
    }
   ],
   "source": [
    "features = []\n",
    "for wallet in wallets:\n",
    "    print(f\"Fetching: {wallet}\")\n",
    "    account = fetch_account_activity(wallet)\n",
    "    if account:\n",
    "        features.append(extract_features(account))\n",
    "    time.sleep(0.5)\n",
    "\n",
    "df_features = pd.DataFrame(features)\n",
    "print(\"df_features columns:\", df_features.columns.tolist())\n",
    "print(df_features.head())\n"
   ]
  },
  {
   "cell_type": "code",
   "execution_count": 28,
   "id": "a6223164-5df2-4970-aa0d-647e0587053b",
   "metadata": {},
   "outputs": [
    {
     "name": "stdout",
     "output_type": "stream",
     "text": [
      "Collecting matplotlib\n",
      "  Using cached matplotlib-3.10.3-cp311-cp311-win_amd64.whl (8.1 MB)\n",
      "Collecting seaborn\n",
      "  Using cached seaborn-0.13.2-py3-none-any.whl (294 kB)\n",
      "Collecting contourpy>=1.0.1 (from matplotlib)\n",
      "  Downloading contourpy-1.3.3-cp311-cp311-win_amd64.whl (225 kB)\n",
      "                                              0.0/225.2 kB ? eta -:--:--\n",
      "     -----                                 30.7/225.2 kB 660.6 kB/s eta 0:00:01\n",
      "     ------                                41.0/225.2 kB 393.8 kB/s eta 0:00:01\n",
      "     ---------------                       92.2/225.2 kB 751.6 kB/s eta 0:00:01\n",
      "     ----------------------------------     204.8/225.2 kB 1.0 MB/s eta 0:00:01\n",
      "     -------------------------------------- 225.2/225.2 kB 1.1 MB/s eta 0:00:00\n",
      "Collecting cycler>=0.10 (from matplotlib)\n",
      "  Using cached cycler-0.12.1-py3-none-any.whl (8.3 kB)\n",
      "Collecting fonttools>=4.22.0 (from matplotlib)\n",
      "  Using cached fonttools-4.59.0-cp311-cp311-win_amd64.whl (2.3 MB)\n",
      "Collecting kiwisolver>=1.3.1 (from matplotlib)\n",
      "  Using cached kiwisolver-1.4.8-cp311-cp311-win_amd64.whl (71 kB)\n",
      "Requirement already satisfied: numpy>=1.23 in c:\\users\\ankita\\downloads\\walletriskscoring\\env\\lib\\site-packages (from matplotlib) (2.3.2)\n",
      "Requirement already satisfied: packaging>=20.0 in c:\\users\\ankita\\downloads\\walletriskscoring\\env\\lib\\site-packages (from matplotlib) (25.0)\n",
      "Collecting pillow>=8 (from matplotlib)\n",
      "  Using cached pillow-11.3.0-cp311-cp311-win_amd64.whl (7.0 MB)\n",
      "Collecting pyparsing>=2.3.1 (from matplotlib)\n",
      "  Using cached pyparsing-3.2.3-py3-none-any.whl (111 kB)\n",
      "Requirement already satisfied: python-dateutil>=2.7 in c:\\users\\ankita\\downloads\\walletriskscoring\\env\\lib\\site-packages (from matplotlib) (2.9.0.post0)\n",
      "Requirement already satisfied: pandas>=1.2 in c:\\users\\ankita\\downloads\\walletriskscoring\\env\\lib\\site-packages (from seaborn) (2.3.1)\n",
      "Requirement already satisfied: pytz>=2020.1 in c:\\users\\ankita\\downloads\\walletriskscoring\\env\\lib\\site-packages (from pandas>=1.2->seaborn) (2025.2)\n",
      "Requirement already satisfied: tzdata>=2022.7 in c:\\users\\ankita\\downloads\\walletriskscoring\\env\\lib\\site-packages (from pandas>=1.2->seaborn) (2025.2)\n",
      "Requirement already satisfied: six>=1.5 in c:\\users\\ankita\\downloads\\walletriskscoring\\env\\lib\\site-packages (from python-dateutil>=2.7->matplotlib) (1.17.0)\n",
      "Installing collected packages: pyparsing, pillow, kiwisolver, fonttools, cycler, contourpy, matplotlib, seaborn\n",
      "Successfully installed contourpy-1.3.3 cycler-0.12.1 fonttools-4.59.0 kiwisolver-1.4.8 matplotlib-3.10.3 pillow-11.3.0 pyparsing-3.2.3 seaborn-0.13.2\n"
     ]
    },
    {
     "name": "stderr",
     "output_type": "stream",
     "text": [
      "\n",
      "[notice] A new release of pip is available: 23.1.2 -> 25.1.1\n",
      "[notice] To update, run: python.exe -m pip install --upgrade pip\n"
     ]
    }
   ],
   "source": [
    "!pip install matplotlib seaborn\n"
   ]
  },
  {
   "cell_type": "code",
   "execution_count": 33,
   "id": "0b525e38-5708-4a39-b3b0-0f35d01cca0c",
   "metadata": {},
   "outputs": [
    {
     "data": {
      "image/png": "[encoded data removed]",
      "text/plain": [
       "<Figure size 1000x600 with 1 Axes>"
      ]
     },
     "metadata": {},
     "output_type": "display_data"
    }
   ],
   "source": [
    "import matplotlib.pyplot as plt\n",
    "import seaborn as sns\n",
    "\n",
    "# Example list of scores\n",
    "scores = [350, 700, 900, 450, 100, 650, 780, 220, 990, 300]\n",
    "\n",
    "# Plot the scores\n",
    "plt.figure(figsize=(10, 6))\n",
    "sns.histplot(scores, bins=10, kde=True, color='orange')\n",
    "plt.title('Wallet Risk Score Distribution')\n",
    "plt.xlabel('Risk Score')\n",
    "plt.ylabel('Number of Wallets')\n",
    "plt.grid(True)\n",
    "plt.tight_layout()\n",
    "plt.show()\n"
   ]
  },
  {
   "cell_type": "code",
   "execution_count": null,
   "id": "42ac00a3-2644-4939-94a0-e10d52bcd386",
   "metadata": {},
   "outputs": [],
   "source": []
  }
 ],
 "metadata": {
  "kernelspec": {
   "display_name": "Python 3 (ipykernel)",
   "language": "python",
   "name": "python3"
  },
  "language_info": {
   "codemirror_mode": {
    "name": "ipython",
    "version": 3
   },
   "file_extension": ".py",
   "mimetype": "text/x-python",
   "name": "python",
   "nbconvert_exporter": "python",
   "pygments_lexer": "ipython3",
   "version": "3.11.4"
  }
 },
 "nbformat": 4,
 "nbformat_minor": 5
}
